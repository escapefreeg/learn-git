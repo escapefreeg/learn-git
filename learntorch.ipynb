{
 "cells": [
  {
   "cell_type": "code",
   "execution_count": 1,
   "metadata": {},
   "outputs": [],
   "source": [
    "# 导入相关库\n",
    "import torch\n"
   ]
  },
  {
   "cell_type": "code",
   "execution_count": null,
   "metadata": {},
   "outputs": [],
   "source": [
    "# torch的数据类型\n",
    "# torch.float64\n",
    "# torch.long\n",
    "# torch.uint8\n",
    "# torch.FloatTensor\n",
    "# torch.LongTensor\n",
    "\n",
    "# axis 变成dim\n",
    "\n",
    "# ones,zeros,tensor 参数都是列表\n",
    "\n",
    "x = torch.zeros([1,2,3])\n",
    "x.shape\n",
    "# 参数表示dim,表示删除指定dim维度\n",
    "x = x.squeeze(0)\n",
    "x.shape\n",
    "# 参数表示dim,表示增加指定dim维度\n",
    "x = x.unsqueeze(1)\n",
    "x.shape\n",
    "# 转置要指定维度!!!\n",
    "x.transpose(0,1)\n",
    "\n",
    "# cat命令可以连接多个tensor\n",
    "# w =torch.cat([x,y,z],dim=1)\n",
    "\n"
   ]
  }
 ],
 "metadata": {
  "interpreter": {
   "hash": "5e287cd04e1bf86292cbe475800460ae34ab2302240b422192dc5773a4c89088"
  },
  "kernelspec": {
   "display_name": "Python 3.8.8 64-bit ('venv': venv)",
   "name": "python3"
  },
  "language_info": {
   "codemirror_mode": {
    "name": "ipython",
    "version": 3
   },
   "file_extension": ".py",
   "mimetype": "text/x-python",
   "name": "python",
   "nbconvert_exporter": "python",
   "pygments_lexer": "ipython3",
   "version": "3.8.8"
  },
  "orig_nbformat": 4
 },
 "nbformat": 4,
 "nbformat_minor": 2
}
