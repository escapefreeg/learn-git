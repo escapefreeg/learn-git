{
 "cells": [
  {
   "cell_type": "code",
   "execution_count": 1,
   "metadata": {
    "pycharm": {
     "name": "#%%\n"
    }
   },
   "outputs": [],
   "source": [
    "# import torch\n",
    "import numpy as np\n",
    "import csv"
   ]
  },
  {
   "cell_type": "code",
   "execution_count": 3,
   "metadata": {
    "collapsed": false,
    "pycharm": {
     "name": "#%%\n"
    }
   },
   "outputs": [],
   "source": [
    "\n",
    "# csv reader读入的格式\n",
    "# 按行读入\n",
    "# 行末不读入空格\n",
    "path = \"./HongYi Lee/HW1/data/covid.test.csv\"\n",
    "with open(path, 'r') as fp:\n",
    "    data = list(csv.reader(fp))\n",
    "    data = np.array(data[1:])[:, 1:].astype(float)\n"
   ]
  }
 ],
 "metadata": {
  "interpreter": {
   "hash": "5e287cd04e1bf86292cbe475800460ae34ab2302240b422192dc5773a4c89088"
  },
  "kernelspec": {
   "display_name": "Python 3.8.8 64-bit ('venv': venv)",
   "name": "python3"
  },
  "language_info": {
   "codemirror_mode": {
    "name": "ipython",
    "version": 3
   },
   "file_extension": ".py",
   "mimetype": "text/x-python",
   "name": "python",
   "nbconvert_exporter": "python",
   "pygments_lexer": "ipython3",
   "version": "3.8.8"
  },
  "orig_nbformat": 4
 },
 "nbformat": 4,
 "nbformat_minor": 2
}
